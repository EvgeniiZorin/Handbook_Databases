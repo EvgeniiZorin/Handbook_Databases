{
 "cells": [
  {
   "cell_type": "markdown",
   "id": "3f910b24",
   "metadata": {},
   "source": [
    "# BigQuery\n",
    "\n",
    "BigQuery is a NoSQL, column data structure, Data Warehouse. "
   ]
  },
  {
   "cell_type": "markdown",
   "id": "0de8b321",
   "metadata": {},
   "source": [
    "# Cost\n",
    "\n",
    "In BigQuery, it doesn't cost you to create tables. It DOES, however, cost to store and query data. \n",
    "- Price per storage: https://cloud.google.com/bigquery/pricing#storage - it's approximately in the ballpark of 20 USD per terabyte per month\n"
   ]
  },
  {
   "cell_type": "markdown",
   "id": "5f6f35d7",
   "metadata": {},
   "source": [
    "# Query optimisation\n",
    "\n",
    "Optimising query cost:\n",
    "- As it is a columnar database, `SELECT *` is the most expensive way to query data; so, **specify the exact columns you need** instead of using the wildcard `*` operator\n",
    "- In partitioned and clustered tables, use `WHERE` on such columns\n",
    "- Avoid query loops in BigQuery "
   ]
  },
  {
   "cell_type": "markdown",
   "id": "a09fb5ca",
   "metadata": {},
   "source": [
    "# Cluster and partition\n",
    "\n",
    "https://cloud.google.com/bigquery/docs/clustered-tables\n",
    "\n",
    "<img src=\"Media/cluster-partition.png\">"
   ]
  },
  {
   "cell_type": "code",
   "execution_count": null,
   "id": "21d4aecd",
   "metadata": {
    "vscode": {
     "languageId": "sql"
    }
   },
   "outputs": [],
   "source": [
    "/*\n",
    "Create a partitioned / clustered table\n",
    "More info: https://cloud.google.com/bigquery/docs/creating-partitioned-tables#sql\n",
    "*/\n",
    "CREATE OR REPLACE TABLE temp.ez_temp1 (\n",
    "    id int64,\n",
    "    transaction_date DATE\n",
    ")\n",
    "PARTITION BY transaction_date\n",
    "CLUSTER BY (id)\n",
    "AS \n",
    "SELECT 1 AS id, CAST('2023-01-01' AS DATE) AS year\n",
    "UNION ALL\n",
    "SELECT 2 AS id, CAST('2023-02-01' AS DATE) AS year "
   ]
  },
  {
   "cell_type": "markdown",
   "id": "5dee38e5",
   "metadata": {},
   "source": [
    "## Partitioning\n",
    "\n",
    "> Basically splitting a table into smaller tables\n",
    "\n",
    "Partitioning is dividing a table into smaller tables based on a single column (date or integer).\n",
    "\n",
    "Examples:\n",
    "- A table containing sales data could be partitioned by month using the column containing the sale date, or by geographic region using the state/province code;\n",
    "- It is a good pratice to partition by date\n",
    "\n",
    "Types of partitioning:\n",
    "- Horizontal: assigning rows to different partitions;\n",
    "- Vertical: assigning sets of columns to different partitions (must be done manually);\n",
    "\n",
    "When partitioning a table horizontally, you must choose a **partition key** - a column whose values are used to assign a row to a particular partition. \n",
    "\n",
    "Partitioning methods:\n",
    "- Range partitioning: \n",
    "  - break up tables by date ranges;\n",
    "  - Allows for a maxvalue partition to catch any rows that don't map to any other partition\n",
    "- List: \n",
    "  - allows you to specify which values will be assigned to each partition\n",
    "  - Can be used with enumerated set of values, e.g. state codes (CA, TX, VA), currencies (USD, EUR, JPY)\n",
    "  - doesn't provide for a spillover partition (to catch any rows that don't map to any other partition)\n",
    "  - the column chosen as the partitioning key should contain only a small number of values\n",
    "- Hash partitioning:\n",
    "  - tries to distribute rows evenly across a set of partitions by applying a hashing function to the column value \n",
    "  - Hash partitioning works best when the partitioning key column contains a large number of distinct values\n",
    "- Composite partitioning: \n",
    "  - Allows you to use two different types of partitioning for the same table\n",
    "\n",
    "Check partitions - MySQL:\n",
    "\n",
    "```sql\n",
    "SELECT\n",
    "    partition_name,\n",
    "    partition_expression,\n",
    "    partition_description\n",
    "FROM information_schema.partitions\n",
    "WHERE table_name = 'sales'\n",
    "ORDER BY partition_ordinal_position;\n",
    "```\n",
    "\n",
    "Benefits:\n",
    "- Partition pruning: You may only need to interact with as few as one partition instead of the entire table; \n",
    "- Partition-wise joins: if you execute a query that includes a join to a partitioned table and the query includes a condition on the partitioning column, the server can exclude any partitions that do not contain data pertinent to the query;\n",
    "- An ability to delete data that is no longer needed, e.g. deleting a partition that is older than seven years old; \n",
    "\n",
    "Disadvantages:\n",
    "- There is a hard number of partitions - A table cannot be partitioned into an infinite number of partitions"
   ]
  },
  {
   "cell_type": "markdown",
   "id": "f276a18e",
   "metadata": {},
   "source": [
    "## Clustering\n",
    "\n",
    "> Basically it's just sorting\n",
    "\n",
    "Clustering: \n",
    "- Basically just sorting by values in up to 4 columns\n",
    "- Improves performance of some queries with filter and aggregate clauses\n",
    "- Better done when cardinality of values in a column or group of columns is large"
   ]
  },
  {
   "cell_type": "markdown",
   "id": "0e7906bf",
   "metadata": {},
   "source": [
    "## Sharding\n",
    "\n",
    "Partition the data across multiple databases; \n",
    "\n",
    "for example, if you were to employ this strategy for a social media company, you might decide to implement 100 separate databases, each one hosting the data for approximately 10 million users. "
   ]
  }
 ],
 "metadata": {
  "language_info": {
   "name": "python"
  }
 },
 "nbformat": 4,
 "nbformat_minor": 5
}
