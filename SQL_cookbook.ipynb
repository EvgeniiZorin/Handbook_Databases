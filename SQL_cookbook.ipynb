{
 "cells": [
  {
   "cell_type": "markdown",
   "id": "ead7a293",
   "metadata": {},
   "source": [
    "# Calculate duplicates"
   ]
  },
  {
   "cell_type": "code",
   "execution_count": null,
   "id": "ba488696",
   "metadata": {
    "vscode": {
     "languageId": "sql"
    }
   },
   "outputs": [],
   "source": [
    "-- based on certain columns\n",
    "WITH temp1 AS (\n",
    "  SELECT 'Jack' name, 17 age, 2 siblings_number\n",
    "  union all\n",
    "  select 'John' name, 17 age, 3 siblings_number\n",
    "  union all\n",
    "  select 'Jack' name, 17 age, 2 siblings_number\n",
    ")\n",
    "select \n",
    "  name, \n",
    "  age,\n",
    "  COUNT(*)\n",
    "FROM temp1\n",
    "GROUP BY 1, 2\n",
    "HAVING COUNT(*) > 1"
   ]
  },
  {
   "cell_type": "code",
   "execution_count": null,
   "id": "6c408175",
   "metadata": {
    "vscode": {
     "languageId": "sql"
    }
   },
   "outputs": [],
   "source": [
    "-- Count how many full-row duplicates there are\n",
    "WITH temp1 AS (\n",
    "  SELECT 'Jack' name, 17 age, 2 siblings_number\n",
    "  union all\n",
    "  select 'John' name, 17 age, 3 siblings_number\n",
    "  union all\n",
    "  select 'Jack' name, 17 age, 2 siblings_number\n",
    "),\n",
    "temp1_distinct AS (\n",
    "  SELECT DISTINCT(name, age, siblings_number)\n",
    "  FROM temp1\n",
    ")\n",
    "SELECT \n",
    "  (SELECT COUNT(*) FROM temp1) AS total_row_count,\n",
    "  (SELECT COUNT(*) FROM temp1_distinct) AS distinct_row_count,\n",
    "  (SELECT COUNT(*) FROM temp1) - (SELECT COUNT(*) FROM temp1_distinct) AS number_duplicated_rows\n",
    "\n",
    "\n",
    "-- Filter out rows that are duplicates based on all columns\n",
    "WITH temp1 AS (\n",
    "  SELECT 'Jack' name, 17 age, 2 siblings_number\n",
    "  union all\n",
    "  select 'John' name, 17 age, 3 siblings_number\n",
    "  union all\n",
    "  select 'Jack' name, 17 age, 2 siblings_number\n",
    ")\n",
    "select \n",
    "  name, \n",
    "  age,\n",
    "  siblings_number,\n",
    "  count(*)\n",
    "from temp1\n",
    "group by 1,2,3\n",
    "having count(*) > 1"
   ]
  }
 ],
 "metadata": {
  "language_info": {
   "name": "python"
  }
 },
 "nbformat": 4,
 "nbformat_minor": 5
}
