{
 "cells": [
  {
   "cell_type": "markdown",
   "id": "f0102d04",
   "metadata": {},
   "source": [
    "# Find a person with the second-highest salary"
   ]
  },
  {
   "cell_type": "code",
   "execution_count": null,
   "id": "65f23eb0",
   "metadata": {
    "vscode": {
     "languageId": "sql"
    }
   },
   "outputs": [],
   "source": [
    "/*\n",
    "Solution: uses window function\n",
    "PostgreSQL\n",
    "*/\n",
    "WITH temp1 AS (\n",
    "\tSELECT 'John' name, 200000 salary\n",
    "\tUNION ALL \n",
    "\tSELECT 'Jack_secondhighest' name, 160000 salary\n",
    "\tUNION ALL\n",
    "\tSELECT 'Rich' name, 150000 salary\n",
    "\tUNION ALL\n",
    "\tSELECT 'Boris' name, 110000 salary\n",
    "), \n",
    "\n",
    "ranks AS (\n",
    "\tSELECT \n",
    "\t\tname,\n",
    "\t\tsalary,\n",
    "\t\tROW_NUMBER() OVER (ORDER BY salary DESC) AS rank_salary\n",
    "\tFROM temp1\n",
    ")\n",
    "\n",
    "SELECT \n",
    "\tname, \n",
    "\tsalary\n",
    "FROM ranks \n",
    "WHERE rank_salary = 2"
   ]
  },
  {
   "cell_type": "code",
   "execution_count": null,
   "id": "24d87892",
   "metadata": {
    "vscode": {
     "languageId": "sql"
    }
   },
   "outputs": [],
   "source": [
    "/*\n",
    "Solution: uses window function\n",
    "BigQuery, MySQL (NOT PostgreSQL)\n",
    "*/\n",
    "WITH temp1 AS (\n",
    "\tSELECT 'John' name, 200000 salary\n",
    "\tUNION ALL \n",
    "\tSELECT 'Jack_secondhighest' name, 160000 salary\n",
    "\tUNION ALL\n",
    "\tSELECT 'Rich' name, 150000 salary\n",
    "\tUNION ALL\n",
    "\tSELECT 'Boris' name, 110000 salary\n",
    ")\n",
    "\n",
    "SELECT \n",
    "\tname,\n",
    "\tsalary\n",
    "FROM temp1\n",
    "QUALIFY ROW_NUMBER() OVER (ORDER BY salary DESC) = 2"
   ]
  },
  {
   "cell_type": "code",
   "execution_count": null,
   "id": "a7b163bd",
   "metadata": {
    "vscode": {
     "languageId": "sql"
    }
   },
   "outputs": [],
   "source": [
    "/*\n",
    "Solution: uses max\n",
    "Any SQL\n",
    "*/\n",
    "WITH temp1 AS (\n",
    "\tSELECT 'John' name, 200000 salary\n",
    "\tUNION ALL \n",
    "\tSELECT 'Jack_secondhighest' name, 160000 salary\n",
    "\tUNION ALL\n",
    "\tSELECT 'Rich' name, 150000 salary\n",
    "\tUNION ALL\n",
    "\tSELECT 'Boris' name, 110000 salary\n",
    ")\n",
    "\n",
    "SELECT *\n",
    "FROM temp1 \n",
    "WHERE salary <> (SELECT MAX(salary) FROM temp1)\n",
    "ORDER BY salary DESC\n",
    "LIMIT 1"
   ]
  },
  {
   "cell_type": "markdown",
   "id": "c519ba62",
   "metadata": {},
   "source": [
    "# Find duplicate records in a table"
   ]
  },
  {
   "cell_type": "code",
   "execution_count": null,
   "id": "1909b6e0",
   "metadata": {
    "vscode": {
     "languageId": "sql"
    }
   },
   "outputs": [],
   "source": [
    "WITH data1 AS (\n",
    "\tSELECT 'John' name, 'Wilkins' surname, 19 age \n",
    "\tUNION ALL\n",
    "\tSELECT 'Jack' name, 'Booth' surname, 19 age\n",
    "\tUNION ALL\n",
    "\tSELECT 'Jack' name, 'Booth' surname, 25 age\n",
    "\tUNION ALL\n",
    "\tSELECT 'John' name, 'Wilkins' surname, 19 age\n",
    "\tUNION ALL\n",
    "\tSELECT 'John' name, 'Wilkins' surname, 19 age\n",
    "\tUNION ALL\n",
    "\tSELECT 'Eugenio' name, 'Zorin' surname, 53 age\n",
    "\tUNION ALL\n",
    "\tSELECT 'Jack' name, 'Booth' surname, 19 age\n",
    "),\n",
    "temp1 AS (\n",
    "\tSELECT \n",
    "\t\t*,\n",
    "\t\tCOUNT(*) OVER (PARTITION BY name, surname, age) AS count_repetitions\n",
    "\tFROM data1\n",
    ")\n",
    "SELECT *\n",
    "FROM temp1\n",
    "WHERE count_repetitions > 1"
   ]
  }
 ],
 "metadata": {
  "language_info": {
   "name": "python"
  }
 },
 "nbformat": 4,
 "nbformat_minor": 5
}
